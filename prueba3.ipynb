{
 "cells": [
  {
   "cell_type": "markdown",
   "id": "1876c02e",
   "metadata": {},
   "source": [
    "## Hola a todos en el curso de LP2"
   ]
  },
  {
   "cell_type": "code",
   "execution_count": 2,
   "id": "965e97a4",
   "metadata": {},
   "outputs": [],
   "source": [
    " def factorial(n):\n",
    "        if n==0 or n==1:\n",
    "            resultado=1\n",
    "        elif n>1:\n",
    "            resultado=n*factorial(n-1)\n",
    "        return resultado "
   ]
  },
  {
   "cell_type": "code",
   "execution_count": 2,
   "id": "bef6e7ec",
   "metadata": {},
   "outputs": [
    {
     "data": {
      "text/plain": [
       "120"
      ]
     },
     "execution_count": 2,
     "metadata": {},
     "output_type": "execute_result"
    }
   ],
   "source": [
    "def factorialAñadido(X):\n",
    "    prod=1\n",
    "    for i in range(1,X+1):\n",
    "        prod=prod*i\n",
    "    return prod\n",
    "\n",
    "#factorialAñadido(5)"
   ]
  },
  {
   "cell_type": "code",
   "execution_count": null,
   "id": "5f0c8e73",
   "metadata": {},
   "outputs": [],
   "source": []
  }
 ],
 "metadata": {
  "kernelspec": {
   "display_name": "Python 3 (ipykernel)",
   "language": "python",
   "name": "python3"
  },
  "language_info": {
   "codemirror_mode": {
    "name": "ipython",
    "version": 3
   },
   "file_extension": ".py",
   "mimetype": "text/x-python",
   "name": "python",
   "nbconvert_exporter": "python",
   "pygments_lexer": "ipython3",
   "version": "3.9.12"
  }
 },
 "nbformat": 4,
 "nbformat_minor": 5
}
